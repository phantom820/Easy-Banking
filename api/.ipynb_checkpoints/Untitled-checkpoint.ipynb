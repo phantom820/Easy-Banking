{
 "cells": [
  {
   "cell_type": "code",
   "execution_count": 4,
   "metadata": {},
   "outputs": [],
   "source": [
    "import pydbgen\n",
    "import numpy as np\n",
    "import pandas as pd\n",
    "from pydbgen import pydbgen\n",
    "import json\n",
    "\n",
    "#create a dataframe with artificial transactions\n",
    "def synthetic_transactions():\n",
    "    \n",
    "    month_range=pd.date_range('2020-06-24', periods=3, freq='M')\n",
    "    monthly_expenditures=np.array([\"Electricity\",\"Groceries\",\"Water\",\"Debit order\"])\n",
    "    monthly_income=pd.DataFrame({\"date\":month_range,\"debits\":[22243.20]*len(month_range)\n",
    "                                ,\"description\":[\"Settlement\"]*len(month_range)})\n",
    "    monthly_expenses=pd.DataFrame({\"date\": month_range, \"debits\": -1*np.round(np.random.uniform(400,1500,len(month_range)),2)\n",
    "                          ,\"description\":monthly_expenditures[np.random.randint(0,len(monthly_expenditures),len(month_range))]})\n",
    "    \n",
    "    daily_expenditures=np.array([\"Restaurant\",\"Data bundles\",\"Clothes\",\"Entertainment\",\"Fuel\",\"Other\"])\n",
    "    day_range=pd.date_range('2020-06-24', periods=90, freq='D')\n",
    "    daily_expenses=pd.DataFrame({\"date\": day_range[::np.random.randint(2,5)]})\n",
    "    daily_expenses[\"description\"]= daily_expenditures[np.random.randint(0,len(daily_expenditures),len(daily_expenses[\"date\"]))]\n",
    "    daily_expenses[\"debits\"]= -1*np.round(np.random.uniform(20,2000,len(daily_expenses[\"date\"])),2)\n",
    "    \n",
    "    transactions=pd.concat([monthly_expenses,daily_expenses,monthly_income])\n",
    "    transactions=transactions.sort_values(by=\"date\",ascending=False)\n",
    "    transactions[\"balance\"]=50000+np.cumsum(transactions[\"debits\"].values)\n",
    "    transaction_json = json.loads(transactions.to_json(orient='records'))\n",
    "    balance=transactions[\"balance\"].values[-1]\n",
    "    return transaction_json,balance\n",
    "\n",
    "js,a=synthetic_transactions()"
   ]
  },
  {
   "cell_type": "code",
   "execution_count": 5,
   "metadata": {},
   "outputs": [
    {
     "data": {
      "text/html": [
       "<div>\n",
       "<style scoped>\n",
       "    .dataframe tbody tr th:only-of-type {\n",
       "        vertical-align: middle;\n",
       "    }\n",
       "\n",
       "    .dataframe tbody tr th {\n",
       "        vertical-align: top;\n",
       "    }\n",
       "\n",
       "    .dataframe thead th {\n",
       "        text-align: right;\n",
       "    }\n",
       "</style>\n",
       "<table border=\"1\" class=\"dataframe\">\n",
       "  <thead>\n",
       "    <tr style=\"text-align: right;\">\n",
       "      <th></th>\n",
       "      <th>date</th>\n",
       "      <th>debits</th>\n",
       "      <th>description</th>\n",
       "      <th>balance</th>\n",
       "    </tr>\n",
       "  </thead>\n",
       "  <tbody>\n",
       "    <tr>\n",
       "      <th>0</th>\n",
       "      <td>2020-09-20</td>\n",
       "      <td>-1085.79</td>\n",
       "      <td>Entertainment</td>\n",
       "      <td>48914.21</td>\n",
       "    </tr>\n",
       "    <tr>\n",
       "      <th>1</th>\n",
       "      <td>2020-09-16</td>\n",
       "      <td>-226.94</td>\n",
       "      <td>Clothes</td>\n",
       "      <td>48687.27</td>\n",
       "    </tr>\n",
       "    <tr>\n",
       "      <th>2</th>\n",
       "      <td>2020-09-12</td>\n",
       "      <td>-127.97</td>\n",
       "      <td>Data bundles</td>\n",
       "      <td>48559.30</td>\n",
       "    </tr>\n",
       "    <tr>\n",
       "      <th>3</th>\n",
       "      <td>2020-09-08</td>\n",
       "      <td>-1084.50</td>\n",
       "      <td>Restaurant</td>\n",
       "      <td>47474.80</td>\n",
       "    </tr>\n",
       "    <tr>\n",
       "      <th>4</th>\n",
       "      <td>2020-09-04</td>\n",
       "      <td>-1265.07</td>\n",
       "      <td>Other</td>\n",
       "      <td>46209.73</td>\n",
       "    </tr>\n",
       "  </tbody>\n",
       "</table>\n",
       "</div>"
      ],
      "text/plain": [
       "        date   debits    description   balance\n",
       "0 2020-09-20 -1085.79  Entertainment  48914.21\n",
       "1 2020-09-16  -226.94        Clothes  48687.27\n",
       "2 2020-09-12  -127.97   Data bundles  48559.30\n",
       "3 2020-09-08 -1084.50     Restaurant  47474.80\n",
       "4 2020-09-04 -1265.07          Other  46209.73"
      ]
     },
     "execution_count": 5,
     "metadata": {},
     "output_type": "execute_result"
    }
   ],
   "source": [
    "data=pd.DataFrame(js)\n",
    "data[\"date\"]=pd.to_datetime(data[\"date\"],unit='ms')\n",
    "data.head()"
   ]
  },
  {
   "cell_type": "code",
   "execution_count": 3,
   "metadata": {},
   "outputs": [
    {
     "name": "stdout",
     "output_type": "stream",
     "text": [
      "{'date': 1600560000000, 'debit_amount': -1088.74, 'description': 'Restaurant', 'balance': 48911.26}\n"
     ]
    }
   ],
   "source": [
    "transaction_json = json.loads(data.to_json(orient='records'))\n",
    "print(transaction_json[0])"
   ]
  },
  {
   "cell_type": "code",
   "execution_count": null,
   "metadata": {},
   "outputs": [],
   "source": [
    "h=d[d[\"d\"]>\"2020-08-06\"]\n",
    "h.head()"
   ]
  },
  {
   "cell_type": "code",
   "execution_count": null,
   "metadata": {},
   "outputs": [],
   "source": [
    "import hashlib \n",
    "  \n",
    "# encoding GeeksforGeeks using md5 hash \n",
    "# function  \n",
    "result = hashlib.md5(b'GeeksforGeeks') \n",
    "  \n",
    "# printing the equivalent byte value. \n",
    "print(\"The byte equivalent of hash is : \", end =\"\") \n",
    "print(str(result.digest())) "
   ]
  },
  {
   "cell_type": "code",
   "execution_count": null,
   "metadata": {},
   "outputs": [],
   "source": []
  }
 ],
 "metadata": {
  "kernelspec": {
   "display_name": "Python 3",
   "language": "python",
   "name": "python3"
  },
  "language_info": {
   "codemirror_mode": {
    "name": "ipython",
    "version": 3
   },
   "file_extension": ".py",
   "mimetype": "text/x-python",
   "name": "python",
   "nbconvert_exporter": "python",
   "pygments_lexer": "ipython3",
   "version": "3.7.7"
  }
 },
 "nbformat": 4,
 "nbformat_minor": 4
}
