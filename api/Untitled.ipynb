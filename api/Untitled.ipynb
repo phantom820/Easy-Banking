{
 "cells": [
  {
   "cell_type": "code",
   "execution_count": 11,
   "metadata": {},
   "outputs": [
    {
     "name": "stdout",
     "output_type": "stream",
     "text": [
      "50000.0\n"
     ]
    }
   ],
   "source": [
    "import pydbgen\n",
    "import numpy as np\n",
    "import pandas as pd\n",
    "from pydbgen import pydbgen\n",
    "import json\n",
    "\n",
    "#create a dataframe with artificial transactions\n",
    "def synthetic_transactions():\n",
    "    data_generator=pydbgen.pydb()\n",
    "    month_range=pd.date_range('2020-06-24', periods=3, freq='M')\n",
    "    monthly_expenditures=np.array([\"Electricity\",\"Groceries\",\"Water\",\"Debit order\"])\n",
    "    monthly_income=pd.DataFrame({\"date\":month_range,\"debit_amount\":[22243.20]*len(month_range)\n",
    "                                ,\"description\":[\"Settlement\"]*len(month_range)})\n",
    "    monthly_income[\"reference\"]=[\"Herring Ltd\"]*3\n",
    "    monthly_expenses=pd.DataFrame({\"date\": month_range, \"debit_amount\": -1*np.round(np.random.uniform(400,1500,len(month_range)),2)\n",
    "                          ,\"description\":monthly_expenditures[np.random.randint(0,len(monthly_expenditures),len(month_range))]})\n",
    "    \n",
    "    references=data_generator.gen_dataframe(len(month_range),[\"company\"])[\"company\"].values\n",
    "    monthly_expenses[\"reference\"]=references\n",
    "    \n",
    "    daily_expenditures=np.array([\"Restaurant\",\"Data bundles\",\"Clothes\",\"Entertainment\",\"Fuel\",\"Other\"])\n",
    "    day_range=pd.date_range('2020-06-24', periods=90, freq='D')\n",
    "    daily_expenses=pd.DataFrame({\"date\": day_range[::np.random.randint(2,5)]})\n",
    "    daily_expenses[\"description\"]= daily_expenditures[np.random.randint(0,len(daily_expenditures),len(daily_expenses[\"date\"]))]\n",
    "    daily_expenses[\"debit_amount\"]= -1*np.round(np.random.uniform(20,2000,len(daily_expenses[\"date\"])),2)\n",
    "    references=data_generator.gen_dataframe(len(daily_expenses[\"date\"]),[\"company\"])[\"company\"].values\n",
    "    daily_expenses[\"reference\"]=references\n",
    "    transactions=pd.concat([monthly_expenses,daily_expenses,monthly_income])\n",
    "    transactions=transactions.sort_values(by=\"date\",ascending=False)\n",
    "    transactions[\"balance\"]=50000-np.cumsum(transactions[\"debit_amount\"].values)\n",
    "    transaction_json = json.loads(transactions.to_json(orient='records'))\n",
    "    balance=transactions[\"balance\"].values[0]+transactions[\"debit_amount\"].values[0]\n",
    "    return transaction_json,np.round(balance,2)\n",
    "\n",
    "#     return transaction_json,balance\n",
    "\n",
    "js,a=synthetic_transactions()\n",
    "print(a)"
   ]
  },
  {
   "cell_type": "code",
   "execution_count": 9,
   "metadata": {},
   "outputs": [
    {
     "data": {
      "text/html": [
       "<div>\n",
       "<style scoped>\n",
       "    .dataframe tbody tr th:only-of-type {\n",
       "        vertical-align: middle;\n",
       "    }\n",
       "\n",
       "    .dataframe tbody tr th {\n",
       "        vertical-align: top;\n",
       "    }\n",
       "\n",
       "    .dataframe thead th {\n",
       "        text-align: right;\n",
       "    }\n",
       "</style>\n",
       "<table border=\"1\" class=\"dataframe\">\n",
       "  <thead>\n",
       "    <tr style=\"text-align: right;\">\n",
       "      <th></th>\n",
       "      <th>date</th>\n",
       "      <th>debit_amount</th>\n",
       "      <th>description</th>\n",
       "      <th>reference</th>\n",
       "      <th>balance</th>\n",
       "    </tr>\n",
       "  </thead>\n",
       "  <tbody>\n",
       "    <tr>\n",
       "      <th>0</th>\n",
       "      <td>2020-09-19</td>\n",
       "      <td>-274.88</td>\n",
       "      <td>Fuel</td>\n",
       "      <td>Roberts and Sons</td>\n",
       "      <td>50274.88</td>\n",
       "    </tr>\n",
       "    <tr>\n",
       "      <th>1</th>\n",
       "      <td>2020-09-16</td>\n",
       "      <td>-195.42</td>\n",
       "      <td>Clothes</td>\n",
       "      <td>Sanders-Rivas</td>\n",
       "      <td>50470.30</td>\n",
       "    </tr>\n",
       "    <tr>\n",
       "      <th>2</th>\n",
       "      <td>2020-09-13</td>\n",
       "      <td>-981.69</td>\n",
       "      <td>Fuel</td>\n",
       "      <td>Cox, Mccormick and Henry</td>\n",
       "      <td>51451.99</td>\n",
       "    </tr>\n",
       "    <tr>\n",
       "      <th>3</th>\n",
       "      <td>2020-09-10</td>\n",
       "      <td>-1864.19</td>\n",
       "      <td>Restaurant</td>\n",
       "      <td>Ward-Cole</td>\n",
       "      <td>53316.18</td>\n",
       "    </tr>\n",
       "    <tr>\n",
       "      <th>4</th>\n",
       "      <td>2020-09-07</td>\n",
       "      <td>-1164.87</td>\n",
       "      <td>Entertainment</td>\n",
       "      <td>Adams, Graham and Dawson</td>\n",
       "      <td>54481.05</td>\n",
       "    </tr>\n",
       "  </tbody>\n",
       "</table>\n",
       "</div>"
      ],
      "text/plain": [
       "        date  debit_amount    description                 reference   balance\n",
       "0 2020-09-19       -274.88           Fuel          Roberts and Sons  50274.88\n",
       "1 2020-09-16       -195.42        Clothes             Sanders-Rivas  50470.30\n",
       "2 2020-09-13       -981.69           Fuel  Cox, Mccormick and Henry  51451.99\n",
       "3 2020-09-10      -1864.19     Restaurant                 Ward-Cole  53316.18\n",
       "4 2020-09-07      -1164.87  Entertainment  Adams, Graham and Dawson  54481.05"
      ]
     },
     "execution_count": 9,
     "metadata": {},
     "output_type": "execute_result"
    }
   ],
   "source": [
    "data=pd.DataFrame(js)\n",
    "data[\"date\"]=pd.to_datetime(data[\"date\"],unit='ms')\n",
    "data.head()"
   ]
  },
  {
   "cell_type": "code",
   "execution_count": 3,
   "metadata": {},
   "outputs": [
    {
     "name": "stdout",
     "output_type": "stream",
     "text": [
      "{'date': 1600560000000, 'debit_amount': -1088.74, 'description': 'Restaurant', 'balance': 48911.26}\n"
     ]
    }
   ],
   "source": [
    "transaction_json = json.loads(data.to_json(orient='records'))\n",
    "print(transaction_json[0])"
   ]
  },
  {
   "cell_type": "code",
   "execution_count": null,
   "metadata": {},
   "outputs": [],
   "source": [
    "h=d[d[\"d\"]>\"2020-08-06\"]\n",
    "h.head()"
   ]
  },
  {
   "cell_type": "code",
   "execution_count": null,
   "metadata": {},
   "outputs": [],
   "source": [
    "import hashlib \n",
    "  \n",
    "# encoding GeeksforGeeks using md5 hash \n",
    "# function  \n",
    "result = hashlib.md5(b'GeeksforGeeks') \n",
    "  \n",
    "# printing the equivalent byte value. \n",
    "print(\"The byte equivalent of hash is : \", end =\"\") \n",
    "print(str(result.digest())) "
   ]
  },
  {
   "cell_type": "code",
   "execution_count": null,
   "metadata": {},
   "outputs": [],
   "source": []
  }
 ],
 "metadata": {
  "kernelspec": {
   "display_name": "Python 3",
   "language": "python",
   "name": "python3"
  },
  "language_info": {
   "codemirror_mode": {
    "name": "ipython",
    "version": 3
   },
   "file_extension": ".py",
   "mimetype": "text/x-python",
   "name": "python",
   "nbconvert_exporter": "python",
   "pygments_lexer": "ipython3",
   "version": "3.7.7"
  }
 },
 "nbformat": 4,
 "nbformat_minor": 4
}
