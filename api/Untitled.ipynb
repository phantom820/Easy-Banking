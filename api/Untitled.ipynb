{
 "cells": [
  {
   "cell_type": "code",
   "execution_count": 3,
   "metadata": {},
   "outputs": [],
   "source": [
    "import pydbgen\n",
    "import numpy as np\n",
    "import pandas as pd\n",
    "from pydbgen import pydbgen\n",
    "import json\n",
    "\n",
    "#create a dataframe with artificial transactions\n",
    "def synthetic_transactions():\n",
    "    data_generator=pydbgen.pydb()\n",
    "    month_range=pd.date_range('2020-06-24', periods=3, freq='M')\n",
    "    monthly_expenditures=np.array([\"Electricity\",\"Groceries\",\"Water\",\"Debit order\"])\n",
    "    monthly_income=pd.DataFrame({\"date\":month_range,\"debit_amount\":[22243.20]*len(month_range)\n",
    "                                ,\"description\":[\"Settlement\"]*len(month_range)})\n",
    "    monthly_income[\"reference\"]=[\"Herring Ltd\"]*3\n",
    "    monthly_expenses=pd.DataFrame({\"date\": month_range, \"debit_amount\": -1*np.round(np.random.uniform(400,1500,len(month_range)),2)\n",
    "                          ,\"description\":monthly_expenditures[np.random.randint(0,len(monthly_expenditures),len(month_range))]})\n",
    "    \n",
    "    references=data_generator.gen_dataframe(len(month_range),[\"company\"])[\"company\"].values\n",
    "    monthly_expenses[\"reference\"]=references\n",
    "    \n",
    "    daily_expenditures=np.array([\"Restaurant\",\"Data bundles\",\"Clothes\",\"Entertainment\",\"Fuel\",\"Other\"])\n",
    "    day_range=pd.date_range('2020-06-24', periods=90, freq='D')\n",
    "    daily_expenses=pd.DataFrame({\"date\": day_range[::np.random.randint(2,5)]})\n",
    "    daily_expenses[\"description\"]= daily_expenditures[np.random.randint(0,len(daily_expenditures),len(daily_expenses[\"date\"]))]\n",
    "    daily_expenses[\"debit_amount\"]= -1*np.round(np.random.uniform(20,2000,len(daily_expenses[\"date\"])),2)\n",
    "    references=data_generator.gen_dataframe(len(daily_expenses[\"date\"]),[\"company\"])[\"company\"].values\n",
    "    daily_expenses[\"reference\"]=references\n",
    "    transactions=pd.concat([monthly_expenses,daily_expenses,monthly_income])\n",
    "    transactions=transactions.sort_values(by=\"date\",ascending=False)\n",
    "    transactions[\"balance\"]=50000+np.cumsum(transactions[\"debit_amount\"].values)\n",
    "    transaction_json = json.loads(transactions.to_json(orient='records'))\n",
    "    balance=transactions[\"balance\"].values[-1]\n",
    "    \n",
    "    return transaction_json,np.round(balance,2)\n",
    "\n",
    "#     return transaction_json,balance\n",
    "\n",
    "js,a=synthetic_transactions()"
   ]
  },
  {
   "cell_type": "code",
   "execution_count": 30,
   "metadata": {},
   "outputs": [
    {
     "data": {
      "text/html": [
       "<div>\n",
       "<style scoped>\n",
       "    .dataframe tbody tr th:only-of-type {\n",
       "        vertical-align: middle;\n",
       "    }\n",
       "\n",
       "    .dataframe tbody tr th {\n",
       "        vertical-align: top;\n",
       "    }\n",
       "\n",
       "    .dataframe thead th {\n",
       "        text-align: right;\n",
       "    }\n",
       "</style>\n",
       "<table border=\"1\" class=\"dataframe\">\n",
       "  <thead>\n",
       "    <tr style=\"text-align: right;\">\n",
       "      <th></th>\n",
       "      <th>name</th>\n",
       "      <th>city</th>\n",
       "      <th>phone-number</th>\n",
       "      <th>company</th>\n",
       "    </tr>\n",
       "  </thead>\n",
       "  <tbody>\n",
       "    <tr>\n",
       "      <th>0</th>\n",
       "      <td>Madison Nixon</td>\n",
       "      <td>Bluetown</td>\n",
       "      <td>116-236-3633</td>\n",
       "      <td>Morton, Kirby and Michael</td>\n",
       "    </tr>\n",
       "    <tr>\n",
       "      <th>1</th>\n",
       "      <td>Kayla Barrett</td>\n",
       "      <td>Isabel</td>\n",
       "      <td>334-735-4861</td>\n",
       "      <td>Frank, Ball and Mosley</td>\n",
       "    </tr>\n",
       "    <tr>\n",
       "      <th>2</th>\n",
       "      <td>Anna Parker</td>\n",
       "      <td>Deferiet</td>\n",
       "      <td>277-607-4719</td>\n",
       "      <td>Ramirez, Lloyd and Riddle</td>\n",
       "    </tr>\n",
       "    <tr>\n",
       "      <th>3</th>\n",
       "      <td>Cory Porter</td>\n",
       "      <td>Owasso</td>\n",
       "      <td>722-588-3396</td>\n",
       "      <td>Roth Group</td>\n",
       "    </tr>\n",
       "    <tr>\n",
       "      <th>4</th>\n",
       "      <td>Carrie Potter</td>\n",
       "      <td>Bryantown</td>\n",
       "      <td>153-587-8728</td>\n",
       "      <td>Strickland, Wilson and Hampton</td>\n",
       "    </tr>\n",
       "  </tbody>\n",
       "</table>\n",
       "</div>"
      ],
      "text/plain": [
       "            name       city  phone-number                         company\n",
       "0  Madison Nixon   Bluetown  116-236-3633       Morton, Kirby and Michael\n",
       "1  Kayla Barrett     Isabel  334-735-4861          Frank, Ball and Mosley\n",
       "2    Anna Parker   Deferiet  277-607-4719       Ramirez, Lloyd and Riddle\n",
       "3    Cory Porter     Owasso  722-588-3396                      Roth Group\n",
       "4  Carrie Potter  Bryantown  153-587-8728  Strickland, Wilson and Hampton"
      ]
     },
     "execution_count": 30,
     "metadata": {},
     "output_type": "execute_result"
    }
   ],
   "source": [
    "myDB = pydbgen.pydb()\n",
    "testdf=myDB.gen_dataframe(5,['name','city','phone','company'])\n",
    "testdf.head()"
   ]
  },
  {
   "cell_type": "code",
   "execution_count": 4,
   "metadata": {},
   "outputs": [
    {
     "data": {
      "text/html": [
       "<div>\n",
       "<style scoped>\n",
       "    .dataframe tbody tr th:only-of-type {\n",
       "        vertical-align: middle;\n",
       "    }\n",
       "\n",
       "    .dataframe tbody tr th {\n",
       "        vertical-align: top;\n",
       "    }\n",
       "\n",
       "    .dataframe thead th {\n",
       "        text-align: right;\n",
       "    }\n",
       "</style>\n",
       "<table border=\"1\" class=\"dataframe\">\n",
       "  <thead>\n",
       "    <tr style=\"text-align: right;\">\n",
       "      <th></th>\n",
       "      <th>date</th>\n",
       "      <th>debit_amount</th>\n",
       "      <th>description</th>\n",
       "      <th>reference</th>\n",
       "      <th>balance</th>\n",
       "    </tr>\n",
       "  </thead>\n",
       "  <tbody>\n",
       "    <tr>\n",
       "      <th>46</th>\n",
       "      <td>2020-06-30</td>\n",
       "      <td>22243.20</td>\n",
       "      <td>Settlement</td>\n",
       "      <td>Herring Ltd</td>\n",
       "      <td>67676.70</td>\n",
       "    </tr>\n",
       "    <tr>\n",
       "      <th>47</th>\n",
       "      <td>2020-06-30</td>\n",
       "      <td>-783.95</td>\n",
       "      <td>Electricity</td>\n",
       "      <td>Simmons, Watson and Callahan</td>\n",
       "      <td>66892.75</td>\n",
       "    </tr>\n",
       "    <tr>\n",
       "      <th>48</th>\n",
       "      <td>2020-06-28</td>\n",
       "      <td>-1237.28</td>\n",
       "      <td>Entertainment</td>\n",
       "      <td>Bryant, Escobar and Johnson</td>\n",
       "      <td>65655.47</td>\n",
       "    </tr>\n",
       "    <tr>\n",
       "      <th>49</th>\n",
       "      <td>2020-06-26</td>\n",
       "      <td>-431.34</td>\n",
       "      <td>Fuel</td>\n",
       "      <td>Smith-Williams</td>\n",
       "      <td>65224.13</td>\n",
       "    </tr>\n",
       "    <tr>\n",
       "      <th>50</th>\n",
       "      <td>2020-06-24</td>\n",
       "      <td>-666.93</td>\n",
       "      <td>Restaurant</td>\n",
       "      <td>Galvan, Harmon and Rogers</td>\n",
       "      <td>64557.20</td>\n",
       "    </tr>\n",
       "  </tbody>\n",
       "</table>\n",
       "</div>"
      ],
      "text/plain": [
       "         date  debit_amount    description                     reference  \\\n",
       "46 2020-06-30      22243.20     Settlement                   Herring Ltd   \n",
       "47 2020-06-30       -783.95    Electricity  Simmons, Watson and Callahan   \n",
       "48 2020-06-28      -1237.28  Entertainment   Bryant, Escobar and Johnson   \n",
       "49 2020-06-26       -431.34           Fuel                Smith-Williams   \n",
       "50 2020-06-24       -666.93     Restaurant     Galvan, Harmon and Rogers   \n",
       "\n",
       "     balance  \n",
       "46  67676.70  \n",
       "47  66892.75  \n",
       "48  65655.47  \n",
       "49  65224.13  \n",
       "50  64557.20  "
      ]
     },
     "execution_count": 4,
     "metadata": {},
     "output_type": "execute_result"
    }
   ],
   "source": [
    "data=pd.DataFrame(js)\n",
    "data[\"date\"]=pd.to_datetime(data[\"date\"],unit='ms')\n",
    "data.tail()"
   ]
  },
  {
   "cell_type": "code",
   "execution_count": 3,
   "metadata": {},
   "outputs": [
    {
     "name": "stdout",
     "output_type": "stream",
     "text": [
      "{'date': 1600560000000, 'debit_amount': -1088.74, 'description': 'Restaurant', 'balance': 48911.26}\n"
     ]
    }
   ],
   "source": [
    "transaction_json = json.loads(data.to_json(orient='records'))\n",
    "print(transaction_json[0])"
   ]
  },
  {
   "cell_type": "code",
   "execution_count": null,
   "metadata": {},
   "outputs": [],
   "source": [
    "h=d[d[\"d\"]>\"2020-08-06\"]\n",
    "h.head()"
   ]
  },
  {
   "cell_type": "code",
   "execution_count": null,
   "metadata": {},
   "outputs": [],
   "source": [
    "import hashlib \n",
    "  \n",
    "# encoding GeeksforGeeks using md5 hash \n",
    "# function  \n",
    "result = hashlib.md5(b'GeeksforGeeks') \n",
    "  \n",
    "# printing the equivalent byte value. \n",
    "print(\"The byte equivalent of hash is : \", end =\"\") \n",
    "print(str(result.digest())) "
   ]
  },
  {
   "cell_type": "code",
   "execution_count": null,
   "metadata": {},
   "outputs": [],
   "source": []
  }
 ],
 "metadata": {
  "kernelspec": {
   "display_name": "Python 3",
   "language": "python",
   "name": "python3"
  },
  "language_info": {
   "codemirror_mode": {
    "name": "ipython",
    "version": 3
   },
   "file_extension": ".py",
   "mimetype": "text/x-python",
   "name": "python",
   "nbconvert_exporter": "python",
   "pygments_lexer": "ipython3",
   "version": "3.7.7"
  }
 },
 "nbformat": 4,
 "nbformat_minor": 4
}
